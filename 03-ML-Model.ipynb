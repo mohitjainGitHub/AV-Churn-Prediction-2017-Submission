{
 "cells": [
  {
   "cell_type": "markdown",
   "metadata": {},
   "source": [
    "# AV Churn Prediction Challenge [ 01-07 Nov,17]"
   ]
  },
  {
   "cell_type": "markdown",
   "metadata": {},
   "source": [
    "This is the submission of Team 'RicknMorty' for the 'Churn Prediction' Competition hosted on Analytics Vidhya. \n",
    "\n",
    "**Teammates:**\n",
    "\n",
    "[Akhil Punia](https://www.linkedin.com/in/akhil-punia-0922bab6/)\n",
    "[Aviral Bhatnagar]()"
   ]
  },
  {
   "cell_type": "code",
   "execution_count": 40,
   "metadata": {
    "collapsed": true
   },
   "outputs": [],
   "source": [
    "import pandas as pd\n",
    "import seaborn as sns\n",
    "import numpy as np\n",
    "from time import time "
   ]
  },
  {
   "cell_type": "code",
   "execution_count": 2,
   "metadata": {
    "collapsed": true
   },
   "outputs": [],
   "source": [
    "from sklearn.preprocessing import LabelEncoder, RobustScaler\n",
    "from sklearn.metrics import accuracy_score\n",
    "from tqdm import tqdm\n",
    "import pickle\n",
    "from sklearn.metrics import confusion_matrix"
   ]
  },
  {
   "cell_type": "code",
   "execution_count": 3,
   "metadata": {},
   "outputs": [
    {
     "name": "stderr",
     "output_type": "stream",
     "text": [
      "/Users/akhilpunia/anaconda/envs/py27/lib/python2.7/site-packages/pandas/io/parsers.py:1170: DtypeWarning: Columns (294,299,300,302,307,313,315,365,367,369) have mixed types. Specify dtype option on import or set low_memory=False.\n",
      "  data = self._reader.read(nrows)\n"
     ]
    }
   ],
   "source": [
    "data = pd.read_csv('./Dataset/train.csv')"
   ]
  },
  {
   "cell_type": "code",
   "execution_count": 4,
   "metadata": {},
   "outputs": [
    {
     "data": {
      "text/plain": [
       "300000"
      ]
     },
     "execution_count": 4,
     "metadata": {},
     "output_type": "execute_result"
    }
   ],
   "source": [
    "len(data)"
   ]
  },
  {
   "cell_type": "code",
   "execution_count": 5,
   "metadata": {},
   "outputs": [
    {
     "data": {
      "text/plain": [
       "377"
      ]
     },
     "execution_count": 5,
     "metadata": {},
     "output_type": "execute_result"
    }
   ],
   "source": [
    "len(data.columns)"
   ]
  },
  {
   "cell_type": "markdown",
   "metadata": {},
   "source": [
    "## Part I: Feature Cleaning\n",
    "___"
   ]
  },
  {
   "cell_type": "markdown",
   "metadata": {},
   "source": [
    "#### I.I Drop Columns with Missing Values"
   ]
  },
  {
   "cell_type": "code",
   "execution_count": 6,
   "metadata": {},
   "outputs": [
    {
     "name": "stdout",
     "output_type": "stream",
     "text": [
      "Detaild Report on the number of missing values in Different Columns of DataFrame:\n",
      "\n",
      "-  1 .  UCIC_ID 0 \n",
      "\n",
      "-  2 .  NO_OF_Accs 0 \n",
      "\n",
      "-  3 .  HNW_CATEGORY 0 \n",
      "\n",
      "-  4 .  vintage 0 \n",
      "\n",
      "-  5 .  EMAIL_UNSUBSCRIBE 286003 \n",
      "\n",
      "-  6 .  OCCUP_ALL_NEW 96 \n",
      "\n",
      "-  7 .  city 5701 \n",
      "\n",
      "-  8 .  dependents 26382 \n",
      "\n",
      "-  9 .  zip 1050 \n",
      "\n",
      "-  10 .  FINAL_WORTH_prev1 186 \n",
      "\n",
      "-  11 .  ENGAGEMENT_TAG_prev1 186 \n",
      "\n",
      "-  12 .  C_prev1 0 \n",
      "\n",
      "-  13 .  D_prev1 0 \n",
      "\n",
      "-  14 .  ATM_C_prev1 0 \n",
      "\n",
      "-  15 .  ATM_D_prev1 0 \n",
      "\n",
      "-  16 .  BRANCH_C_prev1 0 \n",
      "\n",
      "-  17 .  BRANCH_D_prev1 0 \n",
      "\n",
      "-  18 .  IB_C_prev1 0 \n",
      "\n",
      "-  19 .  IB_D_prev1 0 \n",
      "\n",
      "-  20 .  MB_C_prev1 0 \n",
      "\n",
      "-  21 .  MB_D_prev1 0 \n",
      "\n",
      "-  22 .  POS_C_prev1 0 \n",
      "\n",
      "-  23 .  POS_D_prev1 0 \n",
      "\n",
      "-  24 .  count_C_prev1 0 \n",
      "\n",
      "-  25 .  count_D_prev1 0 \n",
      "\n",
      "-  26 .  COUNT_ATM_C_prev1 0 \n",
      "\n",
      "-  27 .  COUNT_ATM_D_prev1 0 \n",
      "\n",
      "-  28 .  COUNT_BRANCH_C_prev1 0 \n",
      "\n",
      "-  29 .  COUNT_BRANCH_D_prev1 0 \n",
      "\n",
      "-  30 .  COUNT_IB_C_prev1 0 \n",
      "\n",
      "-  31 .  COUNT_IB_D_prev1 0 \n",
      "\n",
      "-  32 .  COUNT_MB_C_prev1 0 \n",
      "\n",
      "-  33 .  COUNT_MB_D_prev1 0 \n",
      "\n",
      "-  34 .  COUNT_POS_C_prev1 0 \n",
      "\n",
      "-  35 .  COUNT_POS_D_prev1 0 \n",
      "\n",
      "-  36 .  custinit_CR_amt_prev1 215340 \n",
      "\n",
      "-  37 .  custinit_DR_amt_prev1 115852 \n",
      "\n",
      "-  38 .  custinit_CR_cnt_prev1 215340 \n",
      "\n",
      "-  39 .  custinit_DR_cnt_prev1 115852 \n",
      "\n",
      "-  40 .  ATM_amt_prev1 230204 \n",
      "\n",
      "-  41 .  ATM_CW_Amt_prev1 235277 \n",
      "\n",
      "-  42 .  ATM_CW_Cnt_prev1 235277 \n",
      "\n",
      "-  43 .  BRN_CW_Amt_prev1 299708 \n",
      "\n",
      "-  44 .  BRN_CW_Cnt_prev1 299708 \n",
      "\n",
      "-  45 .  BRN_CASH_Dep_Amt_prev1 266388 \n",
      "\n",
      "-  46 .  BRN_CASH_Dep_Cnt_prev1 266388 \n",
      "\n",
      "-  47 .  CNR_prev1 0 \n",
      "\n",
      "-  48 .  BAL_prev1 0 \n",
      "\n",
      "-  49 .  EOP_prev1 0 \n",
      "\n",
      "-  50 .  CR_AMB_Prev1 0 \n",
      "\n",
      "-  51 .  C_prev2 0 \n",
      "\n",
      "-  52 .  D_prev2 0 \n",
      "\n",
      "-  53 .  ATM_C_prev2 0 \n",
      "\n",
      "-  54 .  ATM_D_prev2 0 \n",
      "\n",
      "-  55 .  BRANCH_C_prev2 0 \n",
      "\n",
      "-  56 .  BRANCH_D_prev2 0 \n",
      "\n",
      "-  57 .  IB_C_prev2 0 \n",
      "\n",
      "-  58 .  IB_D_prev2 0 \n",
      "\n",
      "-  59 .  MB_C_prev2 0 \n",
      "\n",
      "-  60 .  MB_D_prev2 0 \n",
      "\n",
      "-  61 .  POS_C_prev2 0 \n",
      "\n",
      "-  62 .  POS_D_prev2 0 \n",
      "\n",
      "-  63 .  count_C_prev2 0 \n",
      "\n",
      "-  64 .  count_D_prev2 0 \n",
      "\n",
      "-  65 .  COUNT_ATM_C_prev2 0 \n",
      "\n",
      "-  66 .  COUNT_ATM_D_prev2 0 \n",
      "\n",
      "-  67 .  COUNT_BRANCH_C_prev2 0 \n",
      "\n",
      "-  68 .  COUNT_BRANCH_D_prev2 0 \n",
      "\n",
      "-  69 .  COUNT_IB_C_prev2 0 \n",
      "\n",
      "-  70 .  COUNT_IB_D_prev2 0 \n",
      "\n",
      "-  71 .  COUNT_MB_C_prev2 0 \n",
      "\n",
      "-  72 .  COUNT_MB_D_prev2 0 \n",
      "\n",
      "-  73 .  COUNT_POS_C_prev2 0 \n",
      "\n",
      "-  74 .  COUNT_POS_D_prev2 0 \n",
      "\n",
      "-  75 .  custinit_CR_amt_prev2 212630 \n",
      "\n",
      "-  76 .  custinit_DR_amt_prev2 114828 \n",
      "\n",
      "-  77 .  custinit_CR_cnt_prev2 212630 \n",
      "\n",
      "-  78 .  custinit_DR_cnt_prev2 114828 \n",
      "\n",
      "-  79 .  ATM_amt_prev2 228502 \n",
      "\n",
      "-  80 .  ATM_CW_Amt_prev2 233969 \n",
      "\n",
      "-  81 .  ATM_CW_Cnt_prev2 233969 \n",
      "\n",
      "-  82 .  BRN_CW_Amt_prev2 299718 \n",
      "\n",
      "-  83 .  BRN_CW_Cnt_prev2 299718 \n",
      "\n",
      "-  84 .  BRN_CASH_Dep_Amt_prev2 265163 \n",
      "\n",
      "-  85 .  BRN_CASH_Dep_Cnt_prev2 265163 \n",
      "\n",
      "-  86 .  CNR_prev2 0 \n",
      "\n",
      "-  87 .  BAL_prev2 0 \n",
      "\n",
      "-  88 .  EOP_prev2 0 \n",
      "\n",
      "-  89 .  CR_AMB_Prev2 0 \n",
      "\n",
      "-  90 .  C_prev3 0 \n",
      "\n",
      "-  91 .  D_prev3 0 \n",
      "\n",
      "-  92 .  ATM_C_prev3 0 \n",
      "\n",
      "-  93 .  ATM_D_prev3 0 \n",
      "\n",
      "-  94 .  BRANCH_C_prev3 0 \n",
      "\n",
      "-  95 .  BRANCH_D_prev3 0 \n",
      "\n",
      "-  96 .  IB_C_prev3 0 \n",
      "\n",
      "-  97 .  IB_D_prev3 0 \n",
      "\n",
      "-  98 .  MB_C_prev3 0 \n",
      "\n",
      "-  99 .  MB_D_prev3 0 \n",
      "\n",
      "-  100 .  POS_C_prev3 0 \n",
      "\n",
      "-  101 .  POS_D_prev3 0 \n",
      "\n",
      "-  102 .  count_C_prev3 0 \n",
      "\n",
      "-  103 .  count_D_prev3 0 \n",
      "\n",
      "-  104 .  COUNT_ATM_C_prev3 0 \n",
      "\n",
      "-  105 .  COUNT_ATM_D_prev3 0 \n",
      "\n",
      "-  106 .  COUNT_BRANCH_C_prev3 0 \n",
      "\n",
      "-  107 .  COUNT_BRANCH_D_prev3 0 \n",
      "\n",
      "-  108 .  COUNT_IB_C_prev3 0 \n",
      "\n",
      "-  109 .  COUNT_IB_D_prev3 0 \n",
      "\n",
      "-  110 .  COUNT_MB_C_prev3 0 \n",
      "\n",
      "-  111 .  COUNT_MB_D_prev3 0 \n",
      "\n",
      "-  112 .  COUNT_POS_C_prev3 0 \n",
      "\n",
      "-  113 .  COUNT_POS_D_prev3 0 \n",
      "\n",
      "-  114 .  custinit_CR_amt_prev3 210311 \n",
      "\n",
      "-  115 .  custinit_DR_amt_prev3 116621 \n",
      "\n",
      "-  116 .  custinit_CR_cnt_prev3 210311 \n",
      "\n",
      "-  117 .  custinit_DR_cnt_prev3 116621 \n",
      "\n",
      "-  118 .  ATM_amt_prev3 228562 \n",
      "\n",
      "-  119 .  ATM_CW_Amt_prev3 233924 \n",
      "\n",
      "-  120 .  ATM_CW_Cnt_prev3 233924 \n",
      "\n",
      "-  121 .  BRN_CW_Amt_prev3 299643 \n",
      "\n",
      "-  122 .  BRN_CW_Cnt_prev3 299643 \n",
      "\n",
      "-  123 .  BRN_CASH_Dep_Amt_prev3 263934 \n",
      "\n",
      "-  124 .  BRN_CASH_Dep_Cnt_prev3 263934 \n",
      "\n",
      "-  125 .  CNR_prev3 0 \n",
      "\n",
      "-  126 .  BAL_prev3 0 \n",
      "\n",
      "-  127 .  EOP_prev3 0 \n",
      "\n",
      "-  128 .  CR_AMB_Prev3 0 \n",
      "\n",
      "-  129 .  C_prev4 0 \n",
      "\n",
      "-  130 .  D_prev4 0 \n",
      "\n",
      "-  131 .  ATM_C_prev4 0 \n",
      "\n",
      "-  132 .  ATM_D_prev4 0 \n",
      "\n",
      "-  133 .  BRANCH_C_prev4 0 \n",
      "\n",
      "-  134 .  BRANCH_D_prev4 0 \n",
      "\n",
      "-  135 .  IB_C_prev4 0 \n",
      "\n",
      "-  136 .  IB_D_prev4 0 \n",
      "\n",
      "-  137 .  MB_C_prev4 0 \n",
      "\n",
      "-  138 .  MB_D_prev4 0 \n",
      "\n",
      "-  139 .  POS_C_prev4 0 \n",
      "\n",
      "-  140 .  POS_D_prev4 0 \n",
      "\n",
      "-  141 .  count_C_prev4 0 \n",
      "\n",
      "-  142 .  count_D_prev4 0 \n",
      "\n",
      "-  143 .  COUNT_ATM_C_prev4 0 \n",
      "\n",
      "-  144 .  COUNT_ATM_D_prev4 0 \n",
      "\n",
      "-  145 .  COUNT_BRANCH_C_prev4 0 \n",
      "\n",
      "-  146 .  COUNT_BRANCH_D_prev4 0 \n",
      "\n",
      "-  147 .  COUNT_IB_C_prev4 0 \n",
      "\n",
      "-  148 .  COUNT_IB_D_prev4 0 \n",
      "\n",
      "-  149 .  COUNT_MB_C_prev4 0 \n",
      "\n",
      "-  150 .  COUNT_MB_D_prev4 0 \n",
      "\n",
      "-  151 .  COUNT_POS_C_prev4 0 \n",
      "\n",
      "-  152 .  COUNT_POS_D_prev4 0 \n",
      "\n",
      "-  153 .  custinit_CR_amt_prev4 214102 \n",
      "\n",
      "-  154 .  custinit_DR_amt_prev4 126456 \n",
      "\n",
      "-  155 .  custinit_CR_cnt_prev4 214102 \n",
      "\n",
      "-  156 .  custinit_DR_cnt_prev4 126456 \n",
      "\n",
      "-  157 .  ATM_amt_prev4 231094 \n",
      "\n",
      "-  158 .  ATM_CW_Amt_prev4 236286 \n",
      "\n",
      "-  159 .  ATM_CW_Cnt_prev4 236286 \n",
      "\n",
      "-  160 .  BRN_CW_Amt_prev4 299708 \n",
      "\n",
      "-  161 .  BRN_CW_Cnt_prev4 299708 \n",
      "\n",
      "-  162 .  BRN_CASH_Dep_Amt_prev4 265716 \n",
      "\n",
      "-  163 .  BRN_CASH_Dep_Cnt_prev4 265716 \n",
      "\n",
      "-  164 .  CNR_prev4 0 \n",
      "\n",
      "-  165 .  BAL_prev4 0 \n",
      "\n",
      "-  166 .  EOP_prev4 0 \n",
      "\n",
      "-  167 .  CR_AMB_Prev4 0 \n",
      "\n",
      "-  168 .  C_prev5 0 \n",
      "\n",
      "-  169 .  D_prev5 0 \n",
      "\n",
      "-  170 .  ATM_C_prev5 0 \n",
      "\n",
      "-  171 .  ATM_D_prev5 0 \n",
      "\n",
      "-  172 .  BRANCH_C_prev5 0 \n",
      "\n",
      "-  173 .  BRANCH_D_prev5 0 \n",
      "\n",
      "-  174 .  IB_C_prev5 0 \n",
      "\n",
      "-  175 .  IB_D_prev5 0 \n",
      "\n",
      "-  176 .  MB_C_prev5 0 \n",
      "\n",
      "-  177 .  MB_D_prev5 0 \n",
      "\n",
      "-  178 .  POS_C_prev5 0 \n",
      "\n",
      "-  179 .  POS_D_prev5 0 \n",
      "\n",
      "-  180 .  count_C_prev5 0 \n",
      "\n",
      "-  181 .  count_D_prev5 0 \n",
      "\n",
      "-  182 .  COUNT_ATM_C_prev5 0 \n",
      "\n",
      "-  183 .  COUNT_ATM_D_prev5 0 \n",
      "\n",
      "-  184 .  COUNT_BRANCH_C_prev5 0 \n",
      "\n",
      "-  185 .  COUNT_BRANCH_D_prev5 0 \n",
      "\n",
      "-  186 .  COUNT_IB_C_prev5 0 \n",
      "\n",
      "-  187 .  COUNT_IB_D_prev5 0 \n",
      "\n",
      "-  188 .  COUNT_MB_C_prev5 0 \n",
      "\n",
      "-  189 .  COUNT_MB_D_prev5 0 \n",
      "\n",
      "-  190 .  COUNT_POS_C_prev5 0 \n",
      "\n",
      "-  191 .  COUNT_POS_D_prev5 0 \n",
      "\n",
      "-  192 .  custinit_CR_amt_prev5 210710 \n",
      "\n",
      "-  193 .  custinit_DR_amt_prev5 119421 \n",
      "\n",
      "-  194 .  custinit_CR_cnt_prev5 210710 \n",
      "\n",
      "-  195 .  custinit_DR_cnt_prev5 119421 \n",
      "\n",
      "-  196 .  ATM_amt_prev5 229527 \n",
      "\n",
      "-  197 .  ATM_CW_Amt_prev5 235206 \n",
      "\n",
      "-  198 .  ATM_CW_Cnt_prev5 235206 \n",
      "\n",
      "-  199 .  BRN_CW_Amt_prev5 299706 \n",
      "\n",
      "-  200 .  BRN_CW_Cnt_prev5 299706 \n",
      "\n",
      "-  201 .  BRN_CASH_Dep_Amt_prev5 264854 \n",
      "\n",
      "-  202 .  BRN_CASH_Dep_Cnt_prev5 264854 \n",
      "\n",
      "-  203 .  CNR_prev5 0 \n",
      "\n",
      "-  204 .  BAL_prev5 0 \n",
      "\n",
      "-  205 .  EOP_prev5 0 \n",
      "\n",
      "-  206 .  CR_AMB_Prev5 0 \n",
      "\n",
      "-  207 .  C_prev6 0 \n",
      "\n",
      "-  208 .  D_prev6 0 \n",
      "\n",
      "-  209 .  ATM_C_prev6 0 \n",
      "\n",
      "-  210 .  ATM_D_prev6 0 \n",
      "\n",
      "-  211 .  BRANCH_C_prev6 0 \n",
      "\n",
      "-  212 .  BRANCH_D_prev6 0 \n",
      "\n",
      "-  213 .  IB_C_prev6 0 \n",
      "\n",
      "-  214 .  IB_D_prev6 0 \n",
      "\n",
      "-  215 .  MB_C_prev6 0 \n",
      "\n",
      "-  216 .  MB_D_prev6 0 \n",
      "\n",
      "-  217 .  POS_C_prev6 0 \n",
      "\n",
      "-  218 .  POS_D_prev6 0 \n",
      "\n",
      "-  219 .  count_C_prev6 0 \n",
      "\n",
      "-  220 .  count_D_prev6 0 \n",
      "\n",
      "-  221 .  COUNT_ATM_C_prev6 0 \n",
      "\n",
      "-  222 .  COUNT_ATM_D_prev6 0 \n",
      "\n",
      "-  223 .  COUNT_BRANCH_C_prev6 0 \n",
      "\n",
      "-  224 .  COUNT_BRANCH_D_prev6 0 \n",
      "\n",
      "-  225 .  COUNT_IB_C_prev6 0 \n",
      "\n",
      "-  226 .  COUNT_IB_D_prev6 0 \n",
      "\n",
      "-  227 .  COUNT_MB_C_prev6 0 \n",
      "\n",
      "-  228 .  COUNT_MB_D_prev6 0 \n",
      "\n",
      "-  229 .  COUNT_POS_C_prev6 0 \n",
      "\n",
      "-  230 .  COUNT_POS_D_prev6 0 \n",
      "\n",
      "-  231 .  custinit_CR_amt_prev6 211491 \n",
      "\n",
      "-  232 .  custinit_DR_amt_prev6 122657 \n",
      "\n",
      "-  233 .  custinit_CR_cnt_prev6 211491 \n",
      "\n",
      "-  234 .  custinit_DR_cnt_prev6 122657 \n",
      "\n",
      "-  235 .  ATM_amt_prev6 232863 \n",
      "\n",
      "-  236 .  ATM_CW_Amt_prev6 238584 \n",
      "\n",
      "-  237 .  ATM_CW_Cnt_prev6 238584 \n",
      "\n",
      "-  238 .  BRN_CW_Amt_prev6 299704 \n",
      "\n",
      "-  239 .  BRN_CW_Cnt_prev6 299704 \n",
      "\n",
      "-  240 .  BRN_CASH_Dep_Amt_prev6 263856 \n",
      "\n",
      "-  241 .  BRN_CASH_Dep_Cnt_prev6 263856 \n",
      "\n",
      "-  242 .  CNR_prev6 0 \n",
      "\n",
      "-  243 .  BAL_prev6 0 \n",
      "\n",
      "-  244 .  EOP_prev6 0 \n",
      "\n",
      "-  245 .  CR_AMB_Prev6 0 \n",
      "\n",
      "-  246 .  FRX_PrevQ1 299939 \n",
      "\n",
      "-  247 .  EFT_SELF_TRANSFER_PrevQ1 0 \n",
      "\n",
      "-  248 .  Billpay_Active_PrevQ1 275037 \n",
      "\n",
      "-  249 .  Billpay_Reg_ason_Prev1 250859 \n",
      "\n",
      "-  250 .  FD_AMOUNT_BOOK_PrevQ1 0 \n",
      "\n",
      "-  251 .  FD_AMOUNT_BOOK_PrevQ2 0 \n",
      "\n",
      "-  252 .  NO_OF_FD_BOOK_PrevQ1 199633 \n",
      "\n",
      "-  253 .  NO_OF_FD_BOOK_PrevQ2 199325 \n",
      "\n",
      "-  254 .  NO_OF_RD_BOOK_PrevQ1 275370 \n",
      "\n",
      "-  255 .  NO_OF_RD_BOOK_PrevQ2 270731 \n",
      "\n",
      "-  256 .  RD_AMOUNT_BOOK_PrevQ1 0 \n",
      "\n",
      "-  257 .  RD_AMOUNT_BOOK_PrevQ2 0 \n",
      "\n",
      "-  258 .  Total_Invest_in_MF_PrevQ1 0 \n",
      "\n",
      "-  259 .  Total_Invest_in_MF_PrevQ2 0 \n",
      "\n",
      "-  260 .  count_No_of_MF_PrevQ1 272500 \n",
      "\n",
      "-  261 .  count_No_of_MF_PrevQ2 274111 \n",
      "\n",
      "-  262 .  Dmat_Investing_PrevQ1 0 \n",
      "\n"
     ]
    },
    {
     "name": "stdout",
     "output_type": "stream",
     "text": [
      "-  263 .  Dmat_Investing_PrevQ2 0 \n",
      "\n",
      "-  264 .  AGRI_PREM_CLOSED_PREVQ1 299981 \n",
      "\n",
      "-  265 .  AL_CNC_PREM_CLOSED_PREVQ1 299914 \n",
      "\n",
      "-  266 .  AL_PREM_CLOSED_PREVQ1 299631 \n",
      "\n",
      "-  267 .  BL_PREM_CLOSED_PREVQ1 299856 \n",
      "\n",
      "-  268 .  CC_PREM_CLOSED_PREVQ1 300000 \n",
      "\n",
      "-  269 .  CE_PREM_CLOSED_PREVQ1 299996 \n",
      "\n",
      "-  270 .  CV_PREM_CLOSED_PREVQ1 299988 \n",
      "\n",
      "-  271 .  EDU_PREM_CLOSED_PREVQ1 300000 \n",
      "\n",
      "-  272 .  OTHER_LOANS_PREM_CLOSED_PREVQ1 299459 \n",
      "\n",
      "-  273 .  PL_PREM_CLOSED_PREVQ1 299872 \n",
      "\n",
      "-  274 .  RD_PREM_CLOSED_PREVQ1 298749 \n",
      "\n",
      "-  275 .  FD_PREM_CLOSED_PREVQ1 290173 \n",
      "\n",
      "-  276 .  TL_PREM_CLOSED_PREVQ1 300000 \n",
      "\n",
      "-  277 .  TWL_PREM_CLOSED_PREVQ1 299982 \n",
      "\n",
      "-  278 .  AGRI_Closed_PrevQ1 299981 \n",
      "\n",
      "-  279 .  AL_CNC_Closed_PrevQ1 299871 \n",
      "\n",
      "-  280 .  AL_Closed_PrevQ1 298930 \n",
      "\n",
      "-  281 .  BL_Closed_PrevQ1 299804 \n",
      "\n",
      "-  282 .  CC_CLOSED_PREVQ1 299404 \n",
      "\n",
      "-  283 .  CE_Closed_PrevQ1 299988 \n",
      "\n",
      "-  284 .  CV_Closed_PrevQ1 299924 \n",
      "\n",
      "-  285 .  EDU_Closed_PrevQ1 300000 \n",
      "\n",
      "-  286 .  GL_Closed_PrevQ1 299756 \n",
      "\n",
      "-  287 .  OTHER_LOANS_Closed_PrevQ1 299310 \n",
      "\n",
      "-  288 .  PL_Closed_PrevQ1 299827 \n",
      "\n",
      "-  289 .  RD_CLOSED_PREVQ1 289592 \n",
      "\n",
      "-  290 .  FD_CLOSED_PREVQ1 275748 \n",
      "\n",
      "-  291 .  TL_Closed_PrevQ1 299999 \n",
      "\n",
      "-  292 .  TWL_Closed_PrevQ1 299879 \n",
      "\n",
      "-  293 .  DEMAT_CLOSED_PREV1YR 297909 \n",
      "\n",
      "-  294 .  SEC_ACC_CLOSED_PREV1YR 297601 \n",
      "\n",
      "-  295 .  AGRI_TAG_LIVE 299980 \n",
      "\n",
      "-  296 .  AL_CNC_TAG_LIVE 298286 \n",
      "\n",
      "-  297 .  AL_TAG_LIVE 285215 \n",
      "\n",
      "-  298 .  BL_TAG_LIVE 297866 \n",
      "\n",
      "-  299 .  CC_TAG_LIVE 198127 \n",
      "\n",
      "-  300 .  CE_TAG_LIVE 299859 \n",
      "\n",
      "-  301 .  CV_TAG_LIVE 299328 \n",
      "\n",
      "-  302 .  DEMAT_TAG_LIVE 238386 \n",
      "\n",
      "-  303 .  EDU_TAG_LIVE 299989 \n",
      "\n",
      "-  304 .  GL_TAG_LIVE 297821 \n",
      "\n",
      "-  305 .  HL_TAG_LIVE 293623 \n",
      "\n",
      "-  306 .  SEC_ACC_TAG_LIVE 243394 \n",
      "\n",
      "-  307 .  INS_TAG_LIVE 259575 \n",
      "\n",
      "-  308 .  LAS_TAG_LIVE 299999 \n",
      "\n",
      "-  309 .  MF_TAG_LIVE 272500 \n",
      "\n",
      "-  310 .  OTHER_LOANS_TAG_LIVE 296724 \n",
      "\n",
      "-  311 .  PL_TAG_LIVE 297413 \n",
      "\n",
      "-  312 .  RD_TAG_LIVE 275370 \n",
      "\n",
      "-  313 .  FD_TAG_LIVE 199477 \n",
      "\n",
      "-  314 .  TL_TAG_LIVE 299955 \n",
      "\n",
      "-  315 .  TWL_TAG_LIVE 298738 \n",
      "\n",
      "-  316 .  lap_tag_live 299242 \n",
      "\n",
      "-  317 .  AGRI_DATE 299980 \n",
      "\n",
      "-  318 .  AL_CNC_DATE 298286 \n",
      "\n",
      "-  319 .  AL_DATE 285215 \n",
      "\n",
      "-  320 .  BL_DATE 297866 \n",
      "\n",
      "-  321 .  CE_DATE 299859 \n",
      "\n",
      "-  322 .  CV_DATE 299328 \n",
      "\n",
      "-  323 .  EDU_DATE 299989 \n",
      "\n",
      "-  324 .  GL_DATE 297821 \n",
      "\n",
      "-  325 .  LAP_DATE 299242 \n",
      "\n",
      "-  326 .  LAS_DATE 299999 \n",
      "\n",
      "-  327 .  OTHER_LOANS_DATE 296724 \n",
      "\n",
      "-  328 .  PL_DATE 297413 \n",
      "\n",
      "-  329 .  TL_DATE 299955 \n",
      "\n",
      "-  330 .  TWL_DATE 298738 \n",
      "\n",
      "-  331 .  Charges_PrevQ1 0 \n",
      "\n",
      "-  332 .  Charges_cnt_PrevQ1 179500 \n",
      "\n",
      "-  333 .  NO_OF_COMPLAINTS 297114 \n",
      "\n",
      "-  334 .  CASH_WD_AMT_Last6 0 \n",
      "\n",
      "-  335 .  CASH_WD_CNT_Last6 0 \n",
      "\n",
      "-  336 .  Billpay_Active_PrevQ1_N 0 \n",
      "\n",
      "-  337 .  Billpay_Reg_ason_Prev1_N 0 \n",
      "\n",
      "-  338 .  Charges_cnt_PrevQ1_N 0 \n",
      "\n",
      "-  339 .  FRX_PrevQ1_N 0 \n",
      "\n",
      "-  340 .  brn_code 0 \n",
      "\n",
      "-  341 .  RBI_Class_Audit 0 \n",
      "\n",
      "-  342 .  age 0 \n",
      "\n",
      "-  343 .  gender_bin 0 \n",
      "\n",
      "-  344 .  Recency_of_CR_TXN 33194 \n",
      "\n",
      "-  345 .  Recency_of_DR_TXN 23252 \n",
      "\n",
      "-  346 .  Recency_of_IB_TXN 135988 \n",
      "\n",
      "-  347 .  Recency_of_ATM_TXN 153682 \n",
      "\n",
      "-  348 .  Recency_of_BRANCH_TXN 18368 \n",
      "\n",
      "-  349 .  Recency_of_POS_TXN 196945 \n",
      "\n",
      "-  350 .  Recency_of_MB_TXN 259577 \n",
      "\n",
      "-  351 .  Recency_of_Activity 477 \n",
      "\n",
      "-  352 .  I_AQB_PrevQ1 0 \n",
      "\n",
      "-  353 .  I_AQB_PrevQ2 0 \n",
      "\n",
      "-  354 .  I_CR_AQB_PrevQ1 0 \n",
      "\n",
      "-  355 .  I_CR_AQB_PrevQ2 0 \n",
      "\n",
      "-  356 .  I_CNR_PrevQ1 0 \n",
      "\n",
      "-  357 .  I_CNR_PrevQ2 0 \n",
      "\n",
      "-  358 .  I_NRV_PrevQ1 0 \n",
      "\n",
      "-  359 .  I_NRV_PrevQ2 0 \n",
      "\n",
      "-  360 .  CR_AMB_Drop_Build_1 0 \n",
      "\n",
      "-  361 .  CR_AMB_Drop_Build_2 0 \n",
      "\n",
      "-  362 .  CR_AMB_Drop_Build_3 0 \n",
      "\n",
      "-  363 .  CR_AMB_Drop_Build_4 0 \n",
      "\n",
      "-  364 .  CR_AMB_Drop_Build_5 0 \n",
      "\n",
      "-  365 .  Req_Logged_PrevQ1 297114 \n",
      "\n",
      "-  366 .  Req_Resolved_PrevQ1 298218 \n",
      "\n",
      "-  367 .  Query_Logged_PrevQ1 297114 \n",
      "\n",
      "-  368 .  Query_Resolved_PrevQ1 298981 \n",
      "\n",
      "-  369 .  Complaint_Logged_PrevQ1 297114 \n",
      "\n",
      "-  370 .  Complaint_Resolved_PrevQ1 299798 \n",
      "\n",
      "-  371 .  NO_OF_CHEQUE_BOUNCE_V1 296197 \n",
      "\n",
      "-  372 .  Percent_Change_in_Credits 96415 \n",
      "\n",
      "-  373 .  Percent_Change_in_FT_Bank 288198 \n",
      "\n",
      "-  374 .  Percent_Change_in_FT_outside 154370 \n",
      "\n",
      "-  375 .  Percent_Change_in_Self_Txn 291368 \n",
      "\n",
      "-  376 .  Percent_Change_in_Big_Expenses 237204 \n",
      "\n",
      "-  377 .  Responders 0 \n",
      "\n"
     ]
    }
   ],
   "source": [
    "cols = data.columns\n",
    "\n",
    "print \"Detaild Report on the number of missing values in Different Columns of DataFrame:\\n\"\n",
    "for i in range(len(cols)):\n",
    "    ind = pd.isnull(data[cols[i]])\n",
    "    print \"- \",i+1,\". \",cols[i],len(ind[ind==True]),\"\\n\""
   ]
  },
  {
   "cell_type": "code",
   "execution_count": 7,
   "metadata": {},
   "outputs": [
    {
     "name": "stderr",
     "output_type": "stream",
     "text": [
      "/Users/akhilpunia/anaconda/envs/py27/lib/python2.7/site-packages/pandas/core/index.py:1338: FutureWarning: using '+' to provide set union with Indexes is deprecated, use '|' or .union()\n",
      "  \"use '|' or .union()\", FutureWarning)\n"
     ]
    }
   ],
   "source": [
    "rem = cols[4]+cols[7]+cols[35:46]+cols[74:85]+cols[113:124]+cols[152:163]+cols[191:202]+cols[230:241]+cols[247:249]+cols[251:255]+cols[259-261]+cols[263:330]+cols[331:333]+cols[343:350]+cols[364:376]"
   ]
  },
  {
   "cell_type": "code",
   "execution_count": 8,
   "metadata": {},
   "outputs": [
    {
     "name": "stdout",
     "output_type": "stream",
     "text": [
      "Index([u'AGRI_Closed_PrevQ1', u'AGRI_DATE', u'AGRI_PREM_CLOSED_PREVQ1',\n",
      "       u'AGRI_TAG_LIVE', u'AL_CNC_Closed_PrevQ1', u'AL_CNC_DATE',\n",
      "       u'AL_CNC_PREM_CLOSED_PREVQ1', u'AL_CNC_TAG_LIVE', u'AL_Closed_PrevQ1',\n",
      "       u'AL_DATE', \n",
      "       ...\n",
      "       u'custinit_DR_amt_prev3Percent_Change_in_Big_Expenses',\n",
      "       u'custinit_DR_amt_prev4Percent_Change_in_Big_Expenses',\n",
      "       u'custinit_DR_amt_prev5Percent_Change_in_Big_Expenses',\n",
      "       u'custinit_DR_amt_prev6Percent_Change_in_Big_Expenses',\n",
      "       u'custinit_DR_cnt_prev2Percent_Change_in_Big_Expenses',\n",
      "       u'custinit_DR_cnt_prev3Percent_Change_in_Big_Expenses',\n",
      "       u'custinit_DR_cnt_prev4Percent_Change_in_Big_Expenses',\n",
      "       u'custinit_DR_cnt_prev5Percent_Change_in_Big_Expenses',\n",
      "       u'custinit_DR_cnt_prev6Percent_Change_in_Big_Expenses',\n",
      "       u'lap_tag_live'],\n",
      "      dtype='object', length=160)\n"
     ]
    }
   ],
   "source": [
    "print(rem)"
   ]
  },
  {
   "cell_type": "code",
   "execution_count": 9,
   "metadata": {},
   "outputs": [
    {
     "name": "stdout",
     "output_type": "stream",
     "text": [
      "ATM_CW_Amt_prev2Percent_Change_in_Big_Expenses\n"
     ]
    }
   ],
   "source": [
    "print(rem[12])"
   ]
  },
  {
   "cell_type": "code",
   "execution_count": 10,
   "metadata": {},
   "outputs": [
    {
     "data": {
      "text/plain": [
       "'for i in xrange(len(rem)):\\n    print (i+1)\\n    data.drop(rem[i],inplace=True,axis=1)\\n'"
      ]
     },
     "execution_count": 10,
     "metadata": {},
     "output_type": "execute_result"
    }
   ],
   "source": [
    "\"\"\"for i in xrange(len(rem)):\n",
    "    print (i+1)\n",
    "    data.drop(rem[i],inplace=True,axis=1)\n",
    "\"\"\""
   ]
  },
  {
   "cell_type": "code",
   "execution_count": 11,
   "metadata": {},
   "outputs": [
    {
     "data": {
      "text/plain": [
       "377"
      ]
     },
     "execution_count": 11,
     "metadata": {},
     "output_type": "execute_result"
    }
   ],
   "source": [
    "len(data.columns)"
   ]
  },
  {
   "cell_type": "code",
   "execution_count": 12,
   "metadata": {
    "collapsed": true
   },
   "outputs": [],
   "source": [
    "data.dropna(axis=1, how='any',inplace =True)"
   ]
  },
  {
   "cell_type": "code",
   "execution_count": 13,
   "metadata": {},
   "outputs": [
    {
     "data": {
      "text/plain": [
       "206"
      ]
     },
     "execution_count": 13,
     "metadata": {},
     "output_type": "execute_result"
    }
   ],
   "source": [
    "len(data.columns)"
   ]
  },
  {
   "cell_type": "code",
   "execution_count": 14,
   "metadata": {},
   "outputs": [
    {
     "data": {
      "text/plain": [
       "'Responders'"
      ]
     },
     "execution_count": 14,
     "metadata": {},
     "output_type": "execute_result"
    }
   ],
   "source": [
    "cols[-1]"
   ]
  },
  {
   "cell_type": "code",
   "execution_count": 15,
   "metadata": {},
   "outputs": [
    {
     "data": {
      "text/plain": [
       "array([0, 1])"
      ]
     },
     "execution_count": 15,
     "metadata": {},
     "output_type": "execute_result"
    }
   ],
   "source": [
    "data['Responders'].unique()"
   ]
  },
  {
   "cell_type": "code",
   "execution_count": 16,
   "metadata": {
    "collapsed": true
   },
   "outputs": [],
   "source": [
    "grp = data.columns.to_series().groupby(data.dtypes).groups"
   ]
  },
  {
   "cell_type": "code",
   "execution_count": 17,
   "metadata": {
    "scrolled": true
   },
   "outputs": [
    {
     "data": {
      "text/plain": [
       "{dtype('int64'): ['UCIC_ID',\n",
       "  'NO_OF_Accs',\n",
       "  'vintage',\n",
       "  'ATM_C_prev1',\n",
       "  'MB_C_prev1',\n",
       "  'MB_D_prev1',\n",
       "  'POS_C_prev1',\n",
       "  'count_C_prev1',\n",
       "  'count_D_prev1',\n",
       "  'COUNT_ATM_C_prev1',\n",
       "  'COUNT_ATM_D_prev1',\n",
       "  'COUNT_BRANCH_C_prev1',\n",
       "  'COUNT_BRANCH_D_prev1',\n",
       "  'COUNT_IB_C_prev1',\n",
       "  'COUNT_IB_D_prev1',\n",
       "  'COUNT_MB_C_prev1',\n",
       "  'COUNT_MB_D_prev1',\n",
       "  'COUNT_POS_C_prev1',\n",
       "  'COUNT_POS_D_prev1',\n",
       "  'ATM_C_prev2',\n",
       "  'MB_C_prev2',\n",
       "  'MB_D_prev2',\n",
       "  'POS_C_prev2',\n",
       "  'count_C_prev2',\n",
       "  'count_D_prev2',\n",
       "  'COUNT_ATM_C_prev2',\n",
       "  'COUNT_ATM_D_prev2',\n",
       "  'COUNT_BRANCH_C_prev2',\n",
       "  'COUNT_BRANCH_D_prev2',\n",
       "  'COUNT_IB_C_prev2',\n",
       "  'COUNT_IB_D_prev2',\n",
       "  'COUNT_MB_C_prev2',\n",
       "  'COUNT_MB_D_prev2',\n",
       "  'COUNT_POS_C_prev2',\n",
       "  'COUNT_POS_D_prev2',\n",
       "  'ATM_C_prev3',\n",
       "  'MB_C_prev3',\n",
       "  'MB_D_prev3',\n",
       "  'POS_C_prev3',\n",
       "  'count_C_prev3',\n",
       "  'count_D_prev3',\n",
       "  'COUNT_ATM_C_prev3',\n",
       "  'COUNT_ATM_D_prev3',\n",
       "  'COUNT_BRANCH_C_prev3',\n",
       "  'COUNT_BRANCH_D_prev3',\n",
       "  'COUNT_IB_C_prev3',\n",
       "  'COUNT_IB_D_prev3',\n",
       "  'COUNT_MB_C_prev3',\n",
       "  'COUNT_MB_D_prev3',\n",
       "  'COUNT_POS_C_prev3',\n",
       "  'COUNT_POS_D_prev3',\n",
       "  'ATM_C_prev4',\n",
       "  'MB_C_prev4',\n",
       "  'MB_D_prev4',\n",
       "  'POS_C_prev4',\n",
       "  'count_C_prev4',\n",
       "  'count_D_prev4',\n",
       "  'COUNT_ATM_C_prev4',\n",
       "  'COUNT_ATM_D_prev4',\n",
       "  'COUNT_BRANCH_C_prev4',\n",
       "  'COUNT_BRANCH_D_prev4',\n",
       "  'COUNT_IB_C_prev4',\n",
       "  'COUNT_IB_D_prev4',\n",
       "  'COUNT_MB_C_prev4',\n",
       "  'COUNT_MB_D_prev4',\n",
       "  'COUNT_POS_C_prev4',\n",
       "  'COUNT_POS_D_prev4',\n",
       "  'ATM_C_prev5',\n",
       "  'MB_C_prev5',\n",
       "  'MB_D_prev5',\n",
       "  'POS_C_prev5',\n",
       "  'count_C_prev5',\n",
       "  'count_D_prev5',\n",
       "  'COUNT_ATM_C_prev5',\n",
       "  'COUNT_ATM_D_prev5',\n",
       "  'COUNT_BRANCH_C_prev5',\n",
       "  'COUNT_BRANCH_D_prev5',\n",
       "  'COUNT_IB_C_prev5',\n",
       "  'COUNT_IB_D_prev5',\n",
       "  'COUNT_MB_C_prev5',\n",
       "  'COUNT_MB_D_prev5',\n",
       "  'COUNT_POS_C_prev5',\n",
       "  'COUNT_POS_D_prev5',\n",
       "  'ATM_C_prev6',\n",
       "  'MB_C_prev6',\n",
       "  'MB_D_prev6',\n",
       "  'POS_C_prev6',\n",
       "  'count_C_prev6',\n",
       "  'count_D_prev6',\n",
       "  'COUNT_ATM_C_prev6',\n",
       "  'COUNT_ATM_D_prev6',\n",
       "  'COUNT_BRANCH_C_prev6',\n",
       "  'COUNT_BRANCH_D_prev6',\n",
       "  'COUNT_IB_C_prev6',\n",
       "  'COUNT_IB_D_prev6',\n",
       "  'COUNT_MB_C_prev6',\n",
       "  'COUNT_MB_D_prev6',\n",
       "  'COUNT_POS_C_prev6',\n",
       "  'COUNT_POS_D_prev6',\n",
       "  'RD_AMOUNT_BOOK_PrevQ1',\n",
       "  'RD_AMOUNT_BOOK_PrevQ2',\n",
       "  'CASH_WD_CNT_Last6',\n",
       "  'brn_code',\n",
       "  'age',\n",
       "  'Responders'],\n",
       " dtype('float64'): ['C_prev1',\n",
       "  'D_prev1',\n",
       "  'ATM_D_prev1',\n",
       "  'BRANCH_C_prev1',\n",
       "  'BRANCH_D_prev1',\n",
       "  'IB_C_prev1',\n",
       "  'IB_D_prev1',\n",
       "  'POS_D_prev1',\n",
       "  'CNR_prev1',\n",
       "  'BAL_prev1',\n",
       "  'EOP_prev1',\n",
       "  'CR_AMB_Prev1',\n",
       "  'C_prev2',\n",
       "  'D_prev2',\n",
       "  'ATM_D_prev2',\n",
       "  'BRANCH_C_prev2',\n",
       "  'BRANCH_D_prev2',\n",
       "  'IB_C_prev2',\n",
       "  'IB_D_prev2',\n",
       "  'POS_D_prev2',\n",
       "  'CNR_prev2',\n",
       "  'BAL_prev2',\n",
       "  'EOP_prev2',\n",
       "  'CR_AMB_Prev2',\n",
       "  'C_prev3',\n",
       "  'D_prev3',\n",
       "  'ATM_D_prev3',\n",
       "  'BRANCH_C_prev3',\n",
       "  'BRANCH_D_prev3',\n",
       "  'IB_C_prev3',\n",
       "  'IB_D_prev3',\n",
       "  'POS_D_prev3',\n",
       "  'CNR_prev3',\n",
       "  'BAL_prev3',\n",
       "  'EOP_prev3',\n",
       "  'CR_AMB_Prev3',\n",
       "  'C_prev4',\n",
       "  'D_prev4',\n",
       "  'ATM_D_prev4',\n",
       "  'BRANCH_C_prev4',\n",
       "  'BRANCH_D_prev4',\n",
       "  'IB_C_prev4',\n",
       "  'IB_D_prev4',\n",
       "  'POS_D_prev4',\n",
       "  'CNR_prev4',\n",
       "  'BAL_prev4',\n",
       "  'EOP_prev4',\n",
       "  'CR_AMB_Prev4',\n",
       "  'C_prev5',\n",
       "  'D_prev5',\n",
       "  'ATM_D_prev5',\n",
       "  'BRANCH_C_prev5',\n",
       "  'BRANCH_D_prev5',\n",
       "  'IB_C_prev5',\n",
       "  'IB_D_prev5',\n",
       "  'POS_D_prev5',\n",
       "  'CNR_prev5',\n",
       "  'BAL_prev5',\n",
       "  'EOP_prev5',\n",
       "  'CR_AMB_Prev5',\n",
       "  'C_prev6',\n",
       "  'D_prev6',\n",
       "  'ATM_D_prev6',\n",
       "  'BRANCH_C_prev6',\n",
       "  'BRANCH_D_prev6',\n",
       "  'IB_C_prev6',\n",
       "  'IB_D_prev6',\n",
       "  'POS_D_prev6',\n",
       "  'CNR_prev6',\n",
       "  'BAL_prev6',\n",
       "  'EOP_prev6',\n",
       "  'CR_AMB_Prev6',\n",
       "  'FD_AMOUNT_BOOK_PrevQ1',\n",
       "  'FD_AMOUNT_BOOK_PrevQ2',\n",
       "  'Total_Invest_in_MF_PrevQ1',\n",
       "  'Total_Invest_in_MF_PrevQ2',\n",
       "  'Dmat_Investing_PrevQ1',\n",
       "  'Dmat_Investing_PrevQ2',\n",
       "  'Charges_PrevQ1',\n",
       "  'CASH_WD_AMT_Last6',\n",
       "  'I_AQB_PrevQ1',\n",
       "  'I_AQB_PrevQ2',\n",
       "  'I_CR_AQB_PrevQ1',\n",
       "  'I_CR_AQB_PrevQ2',\n",
       "  'I_CNR_PrevQ1',\n",
       "  'I_CNR_PrevQ2',\n",
       "  'I_NRV_PrevQ1',\n",
       "  'I_NRV_PrevQ2',\n",
       "  'CR_AMB_Drop_Build_1',\n",
       "  'CR_AMB_Drop_Build_2',\n",
       "  'CR_AMB_Drop_Build_3',\n",
       "  'CR_AMB_Drop_Build_4',\n",
       "  'CR_AMB_Drop_Build_5'],\n",
       " dtype('O'): ['HNW_CATEGORY',\n",
       "  'EFT_SELF_TRANSFER_PrevQ1',\n",
       "  'Billpay_Active_PrevQ1_N',\n",
       "  'Billpay_Reg_ason_Prev1_N',\n",
       "  'Charges_cnt_PrevQ1_N',\n",
       "  'FRX_PrevQ1_N',\n",
       "  'RBI_Class_Audit',\n",
       "  'gender_bin']}"
      ]
     },
     "execution_count": 17,
     "metadata": {},
     "output_type": "execute_result"
    }
   ],
   "source": [
    "grp"
   ]
  },
  {
   "cell_type": "code",
   "execution_count": 18,
   "metadata": {},
   "outputs": [
    {
     "data": {
      "text/plain": [
       "array(['2_Preferred', '1_Imperia', '3_Classic'], dtype=object)"
      ]
     },
     "execution_count": 18,
     "metadata": {},
     "output_type": "execute_result"
    }
   ],
   "source": [
    "data['HNW_CATEGORY'].unique()"
   ]
  },
  {
   "cell_type": "code",
   "execution_count": 19,
   "metadata": {
    "collapsed": true
   },
   "outputs": [],
   "source": [
    "keys = grp.keys()"
   ]
  },
  {
   "cell_type": "code",
   "execution_count": 20,
   "metadata": {},
   "outputs": [
    {
     "name": "stdout",
     "output_type": "stream",
     "text": [
      "HNW_CATEGORY   3    ['2_Preferred' '1_Imperia' '3_Classic']\n",
      "EFT_SELF_TRANSFER_PrevQ1   2    ['N' 'Y']\n",
      "Billpay_Active_PrevQ1_N   2    ['A_MISSING' 'B_1']\n",
      "Billpay_Reg_ason_Prev1_N   2    ['A_MISSING' 'B_1']\n",
      "Charges_cnt_PrevQ1_N   4    ['A_MISSING' 'D_3' 'C_2' 'B_1']\n",
      "FRX_PrevQ1_N   2    ['A_MISSING' 'B_1']\n",
      "RBI_Class_Audit   4    ['SEMI-URBAN' 'METROPOLITAN' 'URBAN' 'RURAL']\n",
      "gender_bin   3    ['Female' 'Male' 'Missin']\n"
     ]
    }
   ],
   "source": [
    "x = grp[keys[0]]\n",
    "for i in range(len(x)):\n",
    "    print x[i],\" \",len(data[x[i]].unique()),\"  \",data[x[i]].unique()"
   ]
  },
  {
   "cell_type": "markdown",
   "metadata": {},
   "source": [
    "#### I.II Label Encoding"
   ]
  },
  {
   "cell_type": "code",
   "execution_count": 21,
   "metadata": {
    "collapsed": true
   },
   "outputs": [],
   "source": [
    "lbl_0 = LabelEncoder()\n",
    "data[x[0]] = lbl_0.fit_transform(data[x[0]])\n",
    "\n",
    "lbl_1 = LabelEncoder()\n",
    "data[x[1]] = lbl_1.fit_transform(data[x[1]])\n",
    "\n",
    "lbl_2 = LabelEncoder()\n",
    "data[x[2]] = lbl_2.fit_transform(data[x[2]])\n",
    "\n",
    "lbl_3 = LabelEncoder()\n",
    "data[x[3]] = lbl_3.fit_transform(data[x[3]])\n",
    "\n",
    "lbl_4 = LabelEncoder()\n",
    "data[x[4]] = lbl_4.fit_transform(data[x[4]])\n",
    "\n",
    "lbl_5 = LabelEncoder()\n",
    "data[x[5]] = lbl_5.fit_transform(data[x[5]])\n",
    "\n",
    "lbl_6 = LabelEncoder()\n",
    "data[x[6]] = lbl_6.fit_transform(data[x[6]])\n",
    "\n",
    "lbl_7 = LabelEncoder()\n",
    "data[x[7]] = lbl_7.fit_transform(data[x[7]])"
   ]
  },
  {
   "cell_type": "code",
   "execution_count": 22,
   "metadata": {},
   "outputs": [
    {
     "data": {
      "text/html": [
       "<div>\n",
       "<table border=\"1\" class=\"dataframe\">\n",
       "  <thead>\n",
       "    <tr style=\"text-align: right;\">\n",
       "      <th></th>\n",
       "      <th>UCIC_ID</th>\n",
       "      <th>NO_OF_Accs</th>\n",
       "      <th>HNW_CATEGORY</th>\n",
       "      <th>vintage</th>\n",
       "      <th>C_prev1</th>\n",
       "      <th>D_prev1</th>\n",
       "      <th>ATM_C_prev1</th>\n",
       "      <th>ATM_D_prev1</th>\n",
       "      <th>BRANCH_C_prev1</th>\n",
       "      <th>BRANCH_D_prev1</th>\n",
       "      <th>...</th>\n",
       "      <th>I_CNR_PrevQ1</th>\n",
       "      <th>I_CNR_PrevQ2</th>\n",
       "      <th>I_NRV_PrevQ1</th>\n",
       "      <th>I_NRV_PrevQ2</th>\n",
       "      <th>CR_AMB_Drop_Build_1</th>\n",
       "      <th>CR_AMB_Drop_Build_2</th>\n",
       "      <th>CR_AMB_Drop_Build_3</th>\n",
       "      <th>CR_AMB_Drop_Build_4</th>\n",
       "      <th>CR_AMB_Drop_Build_5</th>\n",
       "      <th>Responders</th>\n",
       "    </tr>\n",
       "  </thead>\n",
       "  <tbody>\n",
       "    <tr>\n",
       "      <th>0</th>\n",
       "      <td>170114</td>\n",
       "      <td>1</td>\n",
       "      <td>1</td>\n",
       "      <td>1947</td>\n",
       "      <td>0.00</td>\n",
       "      <td>200000</td>\n",
       "      <td>0</td>\n",
       "      <td>0</td>\n",
       "      <td>0.00</td>\n",
       "      <td>200000</td>\n",
       "      <td>...</td>\n",
       "      <td>1826.046667</td>\n",
       "      <td>2154.266667</td>\n",
       "      <td>900750.2333</td>\n",
       "      <td>1034232.17000</td>\n",
       "      <td>-0.211875</td>\n",
       "      <td>-0.069396</td>\n",
       "      <td>-0.022604</td>\n",
       "      <td>-0.151781</td>\n",
       "      <td>0.454159</td>\n",
       "      <td>0</td>\n",
       "    </tr>\n",
       "    <tr>\n",
       "      <th>1</th>\n",
       "      <td>488013</td>\n",
       "      <td>1</td>\n",
       "      <td>0</td>\n",
       "      <td>3082</td>\n",
       "      <td>3198.40</td>\n",
       "      <td>32000</td>\n",
       "      <td>0</td>\n",
       "      <td>18000</td>\n",
       "      <td>3198.40</td>\n",
       "      <td>14000</td>\n",
       "      <td>...</td>\n",
       "      <td>26467.683330</td>\n",
       "      <td>14239.060000</td>\n",
       "      <td>52729821.9300</td>\n",
       "      <td>56656578.48000</td>\n",
       "      <td>0.241488</td>\n",
       "      <td>0.167411</td>\n",
       "      <td>-0.071992</td>\n",
       "      <td>-0.013259</td>\n",
       "      <td>-0.302890</td>\n",
       "      <td>0</td>\n",
       "    </tr>\n",
       "    <tr>\n",
       "      <th>2</th>\n",
       "      <td>435239</td>\n",
       "      <td>1</td>\n",
       "      <td>1</td>\n",
       "      <td>572</td>\n",
       "      <td>15000.00</td>\n",
       "      <td>1650000</td>\n",
       "      <td>0</td>\n",
       "      <td>0</td>\n",
       "      <td>15000.00</td>\n",
       "      <td>1650000</td>\n",
       "      <td>...</td>\n",
       "      <td>315.506667</td>\n",
       "      <td>13.570000</td>\n",
       "      <td>180150.7500</td>\n",
       "      <td>26547.20333</td>\n",
       "      <td>0.459032</td>\n",
       "      <td>46.068404</td>\n",
       "      <td>0.048818</td>\n",
       "      <td>-0.906061</td>\n",
       "      <td>0.663840</td>\n",
       "      <td>1</td>\n",
       "    </tr>\n",
       "    <tr>\n",
       "      <th>3</th>\n",
       "      <td>331646</td>\n",
       "      <td>1</td>\n",
       "      <td>2</td>\n",
       "      <td>773</td>\n",
       "      <td>0.00</td>\n",
       "      <td>0</td>\n",
       "      <td>0</td>\n",
       "      <td>0</td>\n",
       "      <td>0.00</td>\n",
       "      <td>0</td>\n",
       "      <td>...</td>\n",
       "      <td>2045.090000</td>\n",
       "      <td>2028.690000</td>\n",
       "      <td>856120.9100</td>\n",
       "      <td>850697.26670</td>\n",
       "      <td>0.000000</td>\n",
       "      <td>0.000000</td>\n",
       "      <td>0.000000</td>\n",
       "      <td>0.000000</td>\n",
       "      <td>0.019374</td>\n",
       "      <td>0</td>\n",
       "    </tr>\n",
       "    <tr>\n",
       "      <th>4</th>\n",
       "      <td>226900</td>\n",
       "      <td>1</td>\n",
       "      <td>1</td>\n",
       "      <td>1627</td>\n",
       "      <td>1057252.95</td>\n",
       "      <td>835000</td>\n",
       "      <td>0</td>\n",
       "      <td>0</td>\n",
       "      <td>1057252.95</td>\n",
       "      <td>835000</td>\n",
       "      <td>...</td>\n",
       "      <td>294.580000</td>\n",
       "      <td>74.343333</td>\n",
       "      <td>172639.8067</td>\n",
       "      <td>55725.59000</td>\n",
       "      <td>8.270783</td>\n",
       "      <td>-0.272225</td>\n",
       "      <td>-0.150621</td>\n",
       "      <td>1.391400</td>\n",
       "      <td>-0.538117</td>\n",
       "      <td>0</td>\n",
       "    </tr>\n",
       "  </tbody>\n",
       "</table>\n",
       "<p>5 rows × 206 columns</p>\n",
       "</div>"
      ],
      "text/plain": [
       "   UCIC_ID  NO_OF_Accs  HNW_CATEGORY  vintage     C_prev1  D_prev1  \\\n",
       "0   170114           1             1     1947        0.00   200000   \n",
       "1   488013           1             0     3082     3198.40    32000   \n",
       "2   435239           1             1      572    15000.00  1650000   \n",
       "3   331646           1             2      773        0.00        0   \n",
       "4   226900           1             1     1627  1057252.95   835000   \n",
       "\n",
       "   ATM_C_prev1  ATM_D_prev1  BRANCH_C_prev1  BRANCH_D_prev1     ...      \\\n",
       "0            0            0            0.00          200000     ...       \n",
       "1            0        18000         3198.40           14000     ...       \n",
       "2            0            0        15000.00         1650000     ...       \n",
       "3            0            0            0.00               0     ...       \n",
       "4            0            0      1057252.95          835000     ...       \n",
       "\n",
       "   I_CNR_PrevQ1  I_CNR_PrevQ2   I_NRV_PrevQ1    I_NRV_PrevQ2  \\\n",
       "0   1826.046667   2154.266667    900750.2333   1034232.17000   \n",
       "1  26467.683330  14239.060000  52729821.9300  56656578.48000   \n",
       "2    315.506667     13.570000    180150.7500     26547.20333   \n",
       "3   2045.090000   2028.690000    856120.9100    850697.26670   \n",
       "4    294.580000     74.343333    172639.8067     55725.59000   \n",
       "\n",
       "   CR_AMB_Drop_Build_1  CR_AMB_Drop_Build_2  CR_AMB_Drop_Build_3  \\\n",
       "0            -0.211875            -0.069396            -0.022604   \n",
       "1             0.241488             0.167411            -0.071992   \n",
       "2             0.459032            46.068404             0.048818   \n",
       "3             0.000000             0.000000             0.000000   \n",
       "4             8.270783            -0.272225            -0.150621   \n",
       "\n",
       "   CR_AMB_Drop_Build_4  CR_AMB_Drop_Build_5  Responders  \n",
       "0            -0.151781             0.454159           0  \n",
       "1            -0.013259            -0.302890           0  \n",
       "2            -0.906061             0.663840           1  \n",
       "3             0.000000             0.019374           0  \n",
       "4             1.391400            -0.538117           0  \n",
       "\n",
       "[5 rows x 206 columns]"
      ]
     },
     "execution_count": 22,
     "metadata": {},
     "output_type": "execute_result"
    }
   ],
   "source": [
    "data.head()"
   ]
  },
  {
   "cell_type": "code",
   "execution_count": 23,
   "metadata": {
    "collapsed": true
   },
   "outputs": [],
   "source": [
    "UCIC_ID = data['UCIC_ID']\n",
    "data.drop('UCIC_ID',inplace = True, axis = 1)\n",
    "target = data['Responders']\n",
    "data.drop('Responders',inplace = True, axis = 1)"
   ]
  },
  {
   "cell_type": "code",
   "execution_count": 24,
   "metadata": {
    "collapsed": true
   },
   "outputs": [],
   "source": [
    "rbs = RobustScaler()\n",
    "data_2 = rbs.fit_transform(data)"
   ]
  },
  {
   "cell_type": "markdown",
   "metadata": {},
   "source": [
    "## II. ML Model Training\n",
    "___"
   ]
  },
  {
   "cell_type": "markdown",
   "metadata": {},
   "source": [
    "### 1. Logistic Regression"
   ]
  },
  {
   "cell_type": "code",
   "execution_count": 74,
   "metadata": {
    "collapsed": true
   },
   "outputs": [],
   "source": [
    "from sklearn.linear_model import LogisticRegressionCV"
   ]
  },
  {
   "cell_type": "code",
   "execution_count": null,
   "metadata": {},
   "outputs": [
    {
     "name": "stderr",
     "output_type": "stream",
     "text": [
      "/Users/akhilpunia/anaconda/envs/py27/lib/python2.7/site-packages/sklearn/linear_model/sag.py:326: ConvergenceWarning: The max_iter was reached which means the coef_ did not converge\n",
      "  \"the coef_ did not converge\", ConvergenceWarning)\n"
     ]
    }
   ],
   "source": [
    "lrcv = LogisticRegressionCV(cv=10,penalty='l2',solver='sag')\n",
    "lrcv.fit(dat1a_2,target)"
   ]
  },
  {
   "cell_type": "code",
   "execution_count": null,
   "metadata": {
    "collapsed": true
   },
   "outputs": [],
   "source": [
    "pred0 = lrcv.predict(data_2)"
   ]
  },
  {
   "cell_type": "code",
   "execution_count": null,
   "metadata": {
    "collapsed": true
   },
   "outputs": [],
   "source": [
    "accuracy_score(target, pred0)"
   ]
  },
  {
   "cell_type": "markdown",
   "metadata": {},
   "source": [
    "### 2. Random Forest"
   ]
  },
  {
   "cell_type": "code",
   "execution_count": 69,
   "metadata": {
    "collapsed": true
   },
   "outputs": [],
   "source": [
    "from sklearn.ensemble import RandomForestClassifier"
   ]
  },
  {
   "cell_type": "code",
   "execution_count": 27,
   "metadata": {},
   "outputs": [
    {
     "data": {
      "text/plain": [
       "RandomForestClassifier(bootstrap=True, class_weight=None, criterion='gini',\n",
       "            max_depth=None, max_features='auto', max_leaf_nodes=None,\n",
       "            min_impurity_decrease=0.0, min_impurity_split=None,\n",
       "            min_samples_leaf=1, min_samples_split=2,\n",
       "            min_weight_fraction_leaf=0.0, n_estimators=10, n_jobs=1,\n",
       "            oob_score=False, random_state=None, verbose=0,\n",
       "            warm_start=False)"
      ]
     },
     "execution_count": 27,
     "metadata": {},
     "output_type": "execute_result"
    }
   ],
   "source": [
    "rf = RandomForestClassifier()\n",
    "rf.fit(data_2,target)"
   ]
  },
  {
   "cell_type": "code",
   "execution_count": 28,
   "metadata": {
    "collapsed": true
   },
   "outputs": [],
   "source": [
    "pred = rf.predict(data_2)"
   ]
  },
  {
   "cell_type": "code",
   "execution_count": 31,
   "metadata": {},
   "outputs": [
    {
     "data": {
      "text/plain": [
       "0.98648333333333338"
      ]
     },
     "execution_count": 31,
     "metadata": {},
     "output_type": "execute_result"
    }
   ],
   "source": [
    "accuracy_score(target, pred)"
   ]
  },
  {
   "cell_type": "code",
   "execution_count": 73,
   "metadata": {},
   "outputs": [
    {
     "name": "stdout",
     "output_type": "stream",
     "text": [
      "[[248167    136]\n",
      " [  3919  47778]]\n"
     ]
    }
   ],
   "source": [
    "# Compute confusion matrix\n",
    "cnf_matrix = confusion_matrix(target, pred)\n",
    "print cnf_matrix"
   ]
  },
  {
   "cell_type": "code",
   "execution_count": 33,
   "metadata": {
    "collapsed": true
   },
   "outputs": [],
   "source": [
    "# save the model to disk\n",
    "filename = 'rf_model.sav'\n",
    "pickle.dump(rf, open(filename, 'wb'))"
   ]
  },
  {
   "cell_type": "markdown",
   "metadata": {},
   "source": [
    "### 3. XG Boost Classifier"
   ]
  },
  {
   "cell_type": "code",
   "execution_count": 25,
   "metadata": {
    "collapsed": true
   },
   "outputs": [],
   "source": [
    "from xgboost import XGBClassifier"
   ]
  },
  {
   "cell_type": "code",
   "execution_count": 26,
   "metadata": {},
   "outputs": [
    {
     "data": {
      "text/plain": [
       "XGBClassifier(base_score=0.5, colsample_bytree=1, gamma=0, learning_rate=0.1,\n",
       "       max_delta_step=0, max_depth=3, min_child_weight=1, n_estimators=100,\n",
       "       nthread=-1, objective='binary:logistic', seed=0, silent=True,\n",
       "       subsample=1)"
      ]
     },
     "execution_count": 26,
     "metadata": {},
     "output_type": "execute_result"
    }
   ],
   "source": [
    "xgb = XGBClassifier()\n",
    "xgb.fit(data_2,target)"
   ]
  },
  {
   "cell_type": "code",
   "execution_count": 56,
   "metadata": {
    "collapsed": true
   },
   "outputs": [],
   "source": [
    "# save the model to disk\n",
    "filename = 'xgb_model.sav'\n",
    "pickle.dump(xgb, open(filename, 'wb'))"
   ]
  },
  {
   "cell_type": "markdown",
   "metadata": {},
   "source": [
    "### 4. Light GBM Classifier"
   ]
  },
  {
   "cell_type": "code",
   "execution_count": 47,
   "metadata": {
    "collapsed": true
   },
   "outputs": [],
   "source": [
    "import lightgbm as lgb"
   ]
  },
  {
   "cell_type": "code",
   "execution_count": 48,
   "metadata": {},
   "outputs": [],
   "source": [
    "train_data=lgb.Dataset(data_2,label=target)"
   ]
  },
  {
   "cell_type": "code",
   "execution_count": 54,
   "metadata": {
    "collapsed": true
   },
   "outputs": [],
   "source": [
    "#setting parameters for lightgbm\n",
    "param = {'num_leaves':150, 'objective':'binary','max_depth':7,'learning_rate':.05,'max_bin':200}\n",
    "param['metric'] = ['auc', 'binary_logloss']"
   ]
  },
  {
   "cell_type": "code",
   "execution_count": 55,
   "metadata": {},
   "outputs": [],
   "source": [
    "#training our model using light gbm\n",
    "num_round=1500\n",
    "start= time()\n",
    "lgbm=lgb.train(param,train_data,num_round)\n",
    "stop= time()"
   ]
  },
  {
   "cell_type": "code",
   "execution_count": 51,
   "metadata": {},
   "outputs": [
    {
     "name": "stdout",
     "output_type": "stream",
     "text": [
      "Execution Time:  360.654580116\n"
     ]
    }
   ],
   "source": [
    "#Execution time of the model \n",
    "print \"Execution Time: \",stop-start"
   ]
  },
  {
   "cell_type": "code",
   "execution_count": 57,
   "metadata": {
    "collapsed": true
   },
   "outputs": [],
   "source": [
    "# save the model to disk\n",
    "filename = 'lgbm_model.sav'\n",
    "pickle.dump(lgbm, open(filename, 'wb'))"
   ]
  },
  {
   "cell_type": "markdown",
   "metadata": {},
   "source": [
    "### Generating Predictions for Test Set"
   ]
  },
  {
   "cell_type": "code",
   "execution_count": 27,
   "metadata": {},
   "outputs": [
    {
     "name": "stderr",
     "output_type": "stream",
     "text": [
      "/Users/akhilpunia/anaconda/envs/py27/lib/python2.7/site-packages/pandas/io/parsers.py:1170: DtypeWarning: Columns (294,299,300,302,313,315,365,367,369) have mixed types. Specify dtype option on import or set low_memory=False.\n",
      "  data = self._reader.read(nrows)\n"
     ]
    }
   ],
   "source": [
    "test = pd.read_csv('./Dataset/test.csv')"
   ]
  },
  {
   "cell_type": "code",
   "execution_count": 28,
   "metadata": {
    "collapsed": true
   },
   "outputs": [],
   "source": [
    "ID = test['UCIC_ID']\n",
    "test.drop('UCIC_ID',inplace = True, axis = 1)"
   ]
  },
  {
   "cell_type": "code",
   "execution_count": 29,
   "metadata": {
    "collapsed": true
   },
   "outputs": [],
   "source": [
    "test.dropna(axis=1, how='any',inplace =True)"
   ]
  },
  {
   "cell_type": "code",
   "execution_count": 30,
   "metadata": {
    "collapsed": true
   },
   "outputs": [],
   "source": [
    "test[x[0]] = lbl_0.transform(test[x[0]])\n",
    "test[x[1]] = lbl_1.transform(test[x[1]])\n",
    "test[x[2]] = lbl_2.transform(test[x[2]])\n",
    "test[x[3]] = lbl_3.transform(test[x[3]])\n",
    "test[x[4]] = lbl_4.transform(test[x[4]])\n",
    "test[x[5]] = lbl_5.transform(test[x[5]])\n",
    "test[x[6]] = lbl_6.transform(test[x[6]])\n",
    "test[x[7]] = lbl_7.transform(test[x[7]])"
   ]
  },
  {
   "cell_type": "code",
   "execution_count": 31,
   "metadata": {
    "collapsed": true
   },
   "outputs": [],
   "source": [
    "rbs_1 = RobustScaler()\n",
    "data_3 = rbs_1.fit_transform(test)"
   ]
  },
  {
   "cell_type": "code",
   "execution_count": 58,
   "metadata": {},
   "outputs": [],
   "source": [
    "#test_pred = rf.predict(data_3)\n",
    "#test_pred = xgb.predict(data_3)\n",
    "test_pred = lgbm.predict(data_3,num_iteration= lgbm.best_iteration)"
   ]
  },
  {
   "cell_type": "code",
   "execution_count": 59,
   "metadata": {
    "collapsed": true
   },
   "outputs": [],
   "source": [
    "sub = pd.DataFrame({'UCIC_ID':ID,'Responders':test_pred})\n",
    "sub.to_csv('output.csv',index=False)"
   ]
  }
 ],
 "metadata": {
  "kernelspec": {
   "display_name": "Python 2",
   "language": "python",
   "name": "python2"
  },
  "language_info": {
   "codemirror_mode": {
    "name": "ipython",
    "version": 2
   },
   "file_extension": ".py",
   "mimetype": "text/x-python",
   "name": "python",
   "nbconvert_exporter": "python",
   "pygments_lexer": "ipython2",
   "version": "2.7.13"
  }
 },
 "nbformat": 4,
 "nbformat_minor": 2
}
